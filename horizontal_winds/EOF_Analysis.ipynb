{
 "cells": [
  {
   "cell_type": "code",
   "execution_count": null,
   "metadata": {},
   "outputs": [],
   "source": [
    "import numpy as np\n",
    "import pandas as pd\n",
    "from eofs.standard import Eof\n",
    "import matplotlib.pyplot as plt"
   ]
  },
  {
   "cell_type": "code",
   "execution_count": null,
   "metadata": {},
   "outputs": [],
   "source": [
    "def trans_linear_to_2D(data, side_length = 9):\n",
    "    \"\"\"Transforms an array of the shape (timesteps, number_grid_p) into (timesteps, sqrt(number_grid_p),sqrt(number_grid_p))\"\"\"\n",
    "    t_length, linear_length = data.shape\n",
    "    assert linear_length == side_length**2\n",
    "    \n",
    "    reshaped_data = np.reshape(data,(t_length,side_length,side_length), order = 'F')\n",
    "    return reshaped_data\n",
    "\n",
    "def trans_2D_into_linear(data):\n",
    "    \"\"\"Transforms an array of the shape (timesteps, sqrt(number_grid_p),sqrt(number_grid_p)) into (timesteps, number_grid_p)\"\"\"\n",
    "    t_length, side_length, side_length_y= data.shape\n",
    "    assert side_length == side_length_y\n",
    "    reshaped_data = np.reshape(data,(t_length,side_length**2),order = 'F')\n",
    "    \n",
    "    return reshaped_data\n",
    "    "
   ]
  },
  {
   "cell_type": "code",
   "execution_count": null,
   "metadata": {},
   "outputs": [],
   "source": [
    "def reconstruct(eofs, pcs):\n",
    "    \"\"\"Function that reconstructs Fields from EOF and PC\"\"\"\n",
    "    time_length, spatial_length = pcs.shape\n",
    "    reconstructed_field = np.zeros(pcs.shape)\n",
    "    \n",
    "    for i in range(time_length):\n",
    "        reconstructed_field[i,:] = np.sum(eofs*pcs[i,:,None], axis =0)\n",
    "    return reconstructed_field"
   ]
  },
  {
   "cell_type": "code",
   "execution_count": null,
   "metadata": {},
   "outputs": [],
   "source": [
    "def get_eofs(eof_rawdata):\n",
    "    \"\"\"Do EOF analysis and give out Eof, PC and corresponding variance\"\"\"\n",
    "    solver = Eof(eof_rawdata,weights=None)\n",
    "    eofs = solver.eofs()\n",
    "    variance_fraction = solver.varianceFraction()\n",
    "    pcs = solver.pcs()\n",
    "    pseudo_pcs = solver.projectField(eof_rawdata)\n",
    "    return eofs, pseudo_pcs, variance_fraction\n"
   ]
  },
  {
   "cell_type": "code",
   "execution_count": null,
   "metadata": {},
   "outputs": [],
   "source": [
    "v_x_pandas=pd.read_csv('velocity_x.csv')\n",
    "v_y_pandas=pd.read_csv('velocity_y.csv')"
   ]
  },
  {
   "cell_type": "code",
   "execution_count": null,
   "metadata": {},
   "outputs": [],
   "source": [
    "v_x=v_x_pandas.values[:,1:]\n",
    "v_y=v_y_pandas.values[:,1:]"
   ]
  },
  {
   "cell_type": "markdown",
   "metadata": {},
   "source": [
    "**U and V Seperated analysed in 1D**"
   ]
  },
  {
   "cell_type": "code",
   "execution_count": null,
   "metadata": {},
   "outputs": [],
   "source": [
    "eofs_x, pcs_x, variance_x = get_eofs(v_x)\n",
    "eofs_y, pcs_y, variance_y = get_eofs(v_y)"
   ]
  },
  {
   "cell_type": "markdown",
   "metadata": {},
   "source": [
    "**2D Analysis**, is not necessary, we demonstrate, that it does not matter if we do it in 2D or 1D"
   ]
  },
  {
   "cell_type": "code",
   "execution_count": null,
   "metadata": {},
   "outputs": [],
   "source": [
    "v_x_2D = trans_linear_to_2D(v_x)\n",
    "v_y_2D = trans_linear_to_2D(v_y)"
   ]
  },
  {
   "cell_type": "code",
   "execution_count": null,
   "metadata": {},
   "outputs": [],
   "source": [
    "eofs_x_2D, pcs_x_2D, variance_x_2D = get_eofs(v_x_2D)"
   ]
  },
  {
   "cell_type": "code",
   "execution_count": null,
   "metadata": {},
   "outputs": [],
   "source": [
    "plt.plot(variance_x_2D)\n",
    "plt.plot(variance_x)"
   ]
  },
  {
   "cell_type": "code",
   "execution_count": null,
   "metadata": {},
   "outputs": [],
   "source": [
    "trans_eofs_x_2D = trans_2D_into_linear(eofs_x_2D)"
   ]
  },
  {
   "cell_type": "code",
   "execution_count": null,
   "metadata": {
    "scrolled": true
   },
   "outputs": [],
   "source": [
    "plt.plot(eofs_x[0,:])\n",
    "plt.plot(trans_eofs_x_2D[0,:])"
   ]
  },
  {
   "cell_type": "markdown",
   "metadata": {},
   "source": [
    "**Test**, Can perfectly reconstruct field, and EoFs are orthogonal"
   ]
  },
  {
   "cell_type": "code",
   "execution_count": null,
   "metadata": {},
   "outputs": [],
   "source": [
    "reconstructed_field_fun = reconstruct(eofs_x, pcs_x)\n",
    "t_step = 100"
   ]
  },
  {
   "cell_type": "code",
   "execution_count": null,
   "metadata": {},
   "outputs": [],
   "source": [
    "plt.plot(v_x[t_step,:],label = \"act. field\")\n",
    "plt.plot(reconstructed_field_fun[t_step,:], label = \"My rec\")\n",
    "plt.legend()"
   ]
  },
  {
   "cell_type": "code",
   "execution_count": null,
   "metadata": {
    "scrolled": true
   },
   "outputs": [],
   "source": [
    "#Test of Orthogonality\n",
    "for j in range(81):\n",
    "    for i in range(81):\n",
    "        diag_sum = np.sum(eofs_x[j,:]*eofs_x[i,:])\n",
    "        if diag_sum>1e-14:\n",
    "            print(diag_sum, i, j)"
   ]
  }
 ],
 "metadata": {
  "kernelspec": {
   "display_name": "Python 3",
   "language": "python",
   "name": "python3"
  },
  "language_info": {
   "codemirror_mode": {
    "name": "ipython",
    "version": 3
   },
   "file_extension": ".py",
   "mimetype": "text/x-python",
   "name": "python",
   "nbconvert_exporter": "python",
   "pygments_lexer": "ipython3",
   "version": "3.7.2"
  }
 },
 "nbformat": 4,
 "nbformat_minor": 2
}
